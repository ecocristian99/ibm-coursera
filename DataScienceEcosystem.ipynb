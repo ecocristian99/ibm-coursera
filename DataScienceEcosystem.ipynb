{
 "cells": [
  {
   "cell_type": "markdown",
   "id": "655d470b-bbe9-42d9-bdc6-e6f9339fbbea",
   "metadata": {},
   "source": [
    "# Data Science Tools and Ecosystem"
   ]
  },
  {
   "cell_type": "markdown",
   "id": "36c322f8-a291-432b-856a-fb35af34d848",
   "metadata": {},
   "source": [
    "In this notebook, Data Science Tools and Ecosystem are summarized."
   ]
  },
  {
   "cell_type": "raw",
   "id": "c3e946f3-046f-4543-81fc-7e16c9a0e15b",
   "metadata": {},
   "source": [
    "Some of the popular languages that Data Scientists use are:"
   ]
  },
  {
   "cell_type": "markdown",
   "id": "3cf00ecd-f476-41a5-8365-3d7f2795d726",
   "metadata": {},
   "source": [
    "Some of the popular languages that Data Scientists use are:\n",
    "1. Python\n",
    "2. R\n",
    "3. SQL\n",
    "4. Julia\n",
    "5. Scala"
   ]
  },
  {
   "cell_type": "markdown",
   "id": "f35e2e1c-40a0-4ef7-9670-84e6a9bbc6ee",
   "metadata": {},
   "source": [
    "Some of the commonly used libraries used by Data Scientists include:\n",
    "1. Pandas\n",
    "2. Numpy\n",
    "3. Matplotlib\n",
    "4. Scikit-learn\n",
    "5. TensorFlow"
   ]
  },
  {
   "cell_type": "markdown",
   "id": "babc5b06-6317-4f41-93f7-07be2cd70d82",
   "metadata": {},
   "source": [
    "### Below are a few examples of evaluating arithmetic expressions in Python.\n"
   ]
  },
  {
   "cell_type": "markdown",
   "id": "c683807e-f6b7-4176-83a5-3929080eacf4",
   "metadata": {},
   "source": [
    "### This is a simple arithmetic expression to multiply then add integer"
   ]
  },
  {
   "cell_type": "code",
   "execution_count": 1,
   "id": "d94b2d23-948c-4f08-a7ec-ccda4fdf4af9",
   "metadata": {
    "tags": []
   },
   "outputs": [
    {
     "data": {
      "text/plain": [
       "17"
      ]
     },
     "execution_count": 1,
     "metadata": {},
     "output_type": "execute_result"
    }
   ],
   "source": [
    "(3 * 4) + 5"
   ]
  },
  {
   "cell_type": "markdown",
   "id": "752131f7-cbcc-4e39-9b33-d20dc0e4e8ae",
   "metadata": {},
   "source": [
    "### This will convert 200 minutes to hours by diving by 60"
   ]
  },
  {
   "cell_type": "code",
   "execution_count": 4,
   "id": "d5304260-da42-4913-9cfe-002ce1e91503",
   "metadata": {
    "tags": []
   },
   "outputs": [
    {
     "data": {
      "text/plain": [
       "3.3333333333333335"
      ]
     },
     "execution_count": 4,
     "metadata": {},
     "output_type": "execute_result"
    }
   ],
   "source": [
    "200  / 60 "
   ]
  },
  {
   "cell_type": "markdown",
   "id": "752c7eac-eff9-473f-8c23-2d7f5509ec6b",
   "metadata": {},
   "source": [
    "**Objectives:**\n",
    "\n",
    " List popular languages for Data Science\n",
    " \n",
    "- Identify commonly used libraries by Data Scientists\n",
    "- Understand development environment tools used in Data Science\n",
    "- Evaluate simple arithmetic expressions in Python\n"
   ]
  },
  {
   "cell_type": "markdown",
   "id": "a0be925d-2b4f-4ac1-9165-76a2d5229e66",
   "metadata": {},
   "source": [
    "## Author\n",
    "Christian Franco Crespo "
   ]
  },
  {
   "cell_type": "code",
   "execution_count": null,
   "id": "e2c3613a-d48c-4b3c-ac54-f135289ddaa6",
   "metadata": {},
   "outputs": [],
   "source": []
  }
 ],
 "metadata": {
  "kernelspec": {
   "display_name": "Python",
   "language": "python",
   "name": "conda-env-python-py"
  },
  "language_info": {
   "codemirror_mode": {
    "name": "ipython",
    "version": 3
   },
   "file_extension": ".py",
   "mimetype": "text/x-python",
   "name": "python",
   "nbconvert_exporter": "python",
   "pygments_lexer": "ipython3",
   "version": "3.7.12"
  }
 },
 "nbformat": 4,
 "nbformat_minor": 5
}
